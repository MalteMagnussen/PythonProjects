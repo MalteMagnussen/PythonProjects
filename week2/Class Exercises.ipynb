{
 "cells": [
  {
   "cell_type": "markdown",
   "metadata": {},
   "source": [
    "## Exercises from Class\n",
    "\n",
    "\n",
    "1. Write a function that iterates through a list and prints each value **without using a loop**.  \n",
    "That is, write a recursive function to print the values of a list.\n",
    "2. Write a function that can take any number of arguments and return all arguments concatenated or summed depending on the data type"
   ]
  },
  {
   "cell_type": "code",
   "execution_count": 1,
   "metadata": {},
   "outputs": [
    {
     "name": "stdout",
     "output_type": "stream",
     "text": [
      "1\n",
      "2\n",
      "3\n",
      "4\n",
      "5\n",
      "6\n",
      "7\n",
      "8\n"
     ]
    }
   ],
   "source": [
    "# 1. Write a function that iterates through a list and prints each value without using a loop.\n",
    "#    That is, write a recursive function to print the values of a list.\n",
    "\n",
    "def myRecursive(myList):\n",
    "    \"\"\"Python Doc Goes Here\"\"\"\n",
    "    if (len(myList)>0):\n",
    "        print(myList[0])\n",
    "        myList.pop(0)\n",
    "        myRecursive(myList)\n",
    "\n",
    "        \n",
    "testList = [1,2,3,4,5,6,7,8];\n",
    "\n",
    "myRecursive(testList);"
   ]
  },
  {
   "cell_type": "code",
   "execution_count": 2,
   "metadata": {},
   "outputs": [
    {
     "name": "stdout",
     "output_type": "stream",
     "text": [
      "OK Lets go\n",
      "10\n",
      "test one and test two\n",
      "6\n"
     ]
    }
   ],
   "source": [
    "# 2. Write a function that can take any number of arguments \n",
    "#    and return all arguments concatenated or summed depending on the data type\n",
    "\n",
    "def concatOrSum(*myArgs):\n",
    "    myString = \"\";\n",
    "    mySum = 0;\n",
    "    \n",
    "    for x in myArgs:\n",
    "        if (isinstance(x,int)):\n",
    "            mySum = mySum + x;\n",
    "        if (isinstance(x, str)):\n",
    "            myString = myString + x;\n",
    "    print(myString)\n",
    "    print(mySum)\n",
    "    \n",
    "    return myString, mySum;\n",
    "\n",
    "concatOrSum(\"OK \", \"Lets \", \"go\", 5, 5);\n",
    "concatOrSum(1,2,3, \"test one \", \"and \", \"test two\");"
   ]
  },
  {
   "cell_type": "code",
   "execution_count": 3,
   "metadata": {},
   "outputs": [
    {
     "name": "stdout",
     "output_type": "stream",
     "text": [
      "hello from module\n"
     ]
    }
   ],
   "source": [
    "# import test\n",
    "import my_test\n",
    "my_test.print_string(\"hello from module\");"
   ]
  },
  {
   "cell_type": "markdown",
   "metadata": {},
   "source": [
    "Write a module webget.py that exposes a function to download a file from the web in case it does not exist locally already. The function shall have the following signature download(url, to=None) where the keyword argument to specifies where to save a file locally and with which name. If to == None then the file shall be saved in the current working directory ./ with the same name as it has at its origin. For example, calling your program as in the following\n"
   ]
  },
  {
   "cell_type": "code",
   "execution_count": 4,
   "metadata": {},
   "outputs": [],
   "source": [
    "# This is only necessary in the notebook, when you want to reload \n",
    "# modules on which you are working\n",
    "%load_ext autoreload"
   ]
  },
  {
   "cell_type": "code",
   "execution_count": 11,
   "metadata": {},
   "outputs": [
    {
     "name": "stdout",
     "output_type": "stream",
     "text": [
      "Attempting to retrieve doc from: http://data.kk.dk/dataset/76ecf368-bf2d-46a2-bcf8-adaf37662528/resource/9286af17-f74e-46c9-a428-9fb707542189/download/befkbhalderstatkode.csv\n"
     ]
    }
   ],
   "source": [
    "%autoreload 2\n",
    "\n",
    "import webget\n",
    "\n",
    "url = 'http://data.kk.dk/dataset/76ecf368-bf2d-46a2-bcf8-adaf37662528/resource/9286af17-f74e-46c9-a428-9fb707542189/download/befkbhalderstatkode.csv'\n",
    "webget.download(url)"
   ]
  },
  {
   "cell_type": "markdown",
   "metadata": {},
   "source": [
    "will download the remote file to ./befkbhalderstatkode.csv.\n",
    "\n",
    "Likely, you will need functions from the standard library modules os, and urllib. For example, read the doc strings for the following functions and implement the given function stub with help of them.\n",
    "\n",
    "os.path.isfile?\n",
    "os.path.join?\n",
    "os.path.basename?\n",
    "urllib.parse?\n",
    "urllib.request.urlretrieve?"
   ]
  },
  {
   "cell_type": "code",
   "execution_count": null,
   "metadata": {},
   "outputs": [],
   "source": [
    "import os;\n",
    "import urllib;\n",
    "\n",
    "#os.path.isfile? #Test whether a path is a regular file\n",
    "#os.path.join?\n",
    "#os.path.basename? #Returns the final component of a pathname\n",
    "#urllib.parse?\n",
    "#urllib.request.urlretrieve?"
   ]
  }
 ],
 "metadata": {
  "kernelspec": {
   "display_name": "Python 3",
   "language": "python",
   "name": "python3"
  },
  "language_info": {
   "codemirror_mode": {
    "name": "ipython",
    "version": 3
   },
   "file_extension": ".py",
   "mimetype": "text/x-python",
   "name": "python",
   "nbconvert_exporter": "python",
   "pygments_lexer": "ipython3",
   "version": "3.7.4"
  }
 },
 "nbformat": 4,
 "nbformat_minor": 2
}
