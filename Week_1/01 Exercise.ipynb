{
 "cells": [
  {
   "cell_type": "markdown",
   "metadata": {},
   "source": [
    "Exercise\n",
    "\n",
    "1. Create 5 list comprehensions to solve the following 5 problems:\n",
    "\n",
    "    a. Iterate a list of names to return a list of the names starting with H\n",
    "    \n",
    "    b. In one line create a list of the numbers 1-100 to the power of 3\n",
    "    \n",
    "    c. Iterate a list of names to create a list of tuples where the tuples first value is the length of the name and the second is the name\n",
    "    \n",
    "    d. Iterate over each character in a string and get only those that are nummeric\n",
    "    \n",
    "    e. Using only a list comprehension wrapped in set() get all possible combination from throwing 2 dice\n",
    "    \n",
    "    \n",
    "2. Create 2 dictionary comprehensions to solve the following:\n",
    "\n",
    "    a. Iterate a list of names and create a dictionary where key is the name and value is the length of the name\n",
    "    \n",
    "    b. Iterate a list of numbers and create a dictionary with (key, value) being (number, squareroot of number)\n",
    "    \n",
    "    \n",
    "    \n",
    "3. Progammatically using loops create a small program to produce a dictionary with all the 2 dice throw combinations as keys and their likelyhood in percent as values"
   ]
  },
  {
   "cell_type": "code",
   "execution_count": 1,
   "metadata": {},
   "outputs": [],
   "source": [
    "names = [\"Malte\", \"John\", \"Peter\", \"Hanna\", \"Harold\", \"Henrik\", \"Bob\", \"Mads\", \"Nicklas\"]\n",
    "print(names);"
   ]
  },
  {
   "cell_type": "code",
   "execution_count": 2,
   "metadata": {},
   "outputs": [],
   "source": [
    "names[0][0:1]"
   ]
  },
  {
   "cell_type": "code",
   "execution_count": 3,
   "metadata": {},
   "outputs": [
    {
     "name": "stdout",
     "output_type": "stream",
     "text": [
      "['Hanna', 'Harold', 'Henrik']\n"
     ]
    }
   ],
   "source": [
    "# This Solves 1 a. Iterate a list of names to return a list of the names starting with H\n",
    "names_startWith_H = [name for name in names if(name[0:1] == \"H\")]\n",
    "print(names_startWith_H);"
   ]
  },
  {
   "cell_type": "code",
   "execution_count": 4,
   "metadata": {},
   "outputs": [
    {
     "name": "stdout",
     "output_type": "stream",
     "text": [
      "[0, 1, 8, 27, 64, 125, 216, 343, 512, 729]\n"
     ]
    }
   ],
   "source": [
    "# b. In one line create a list of the numbers 1-100 to the power of 3\n",
    "three = [x**3 for x in range(10#0\n",
    "                            )]\n",
    "print(three);"
   ]
  },
  {
   "cell_type": "code",
   "execution_count": 5,
   "metadata": {},
   "outputs": [
    {
     "name": "stdout",
     "output_type": "stream",
     "text": [
      "[(5, 'Malte'), (4, 'John'), (5, 'Peter'), (5, 'Hanna'), (6, 'Harold'), (6, 'Henrik'), (3, 'Bob'), (4, 'Mads'), (7, 'Nicklas')]\n"
     ]
    }
   ],
   "source": [
    "# c. Iterate a list of names to create a list of tuples \n",
    "#    where the tuples first value is the length of the name and the second is the name\n",
    "\n",
    "tuples = [(len(x), x) for x in names]\n",
    "\n",
    "print(tuples);"
   ]
  },
  {
   "cell_type": "code",
   "execution_count": 6,
   "metadata": {},
   "outputs": [
    {
     "name": "stdout",
     "output_type": "stream",
     "text": [
      "123456\n"
     ]
    }
   ],
   "source": [
    "# d. Iterate over each character in a string and get only those that are nummeric\n",
    "\n",
    "testString = \"123asdasd456\"\n",
    "resultString = \"\"\n",
    "\n",
    "for x in testString:\n",
    "    if x.isdigit():\n",
    "        resultString += x\n",
    "    \n",
    "print(resultString)"
   ]
  },
  {
   "cell_type": "code",
   "execution_count": 7,
   "metadata": {},
   "outputs": [
    {
     "name": "stdout",
     "output_type": "stream",
     "text": [
      "{(1, 3), (6, 6), (5, 6), (2, 1), (6, 2), (1, 6), (5, 1), (2, 5), (1, 2), (3, 3), (5, 5), (4, 4), (6, 3), (1, 5), (3, 6), (2, 2), (4, 1), (1, 1), (6, 4), (3, 2), (2, 6), (5, 4), (4, 5), (5, 2), (1, 4), (2, 3), (4, 2), (6, 5), (3, 5), (5, 3), (4, 6), (6, 1), (3, 1), (4, 3), (3, 4), (2, 4)}\n"
     ]
    }
   ],
   "source": [
    "# e. Using only a list comprehension wrapped in set() get all possible combination from throwing 2 dice\n",
    "diceThrows = set([(x+1, y+1) for x in range(6) for y in range(6)])\n",
    "print(diceThrows)"
   ]
  },
  {
   "cell_type": "code",
   "execution_count": 8,
   "metadata": {},
   "outputs": [
    {
     "name": "stdout",
     "output_type": "stream",
     "text": [
      "{'Malte': 5, 'John': 4, 'Peter': 5, 'Hanna': 5, 'Harold': 6, 'Henrik': 6, 'Bob': 3, 'Mads': 4, 'Nicklas': 7}\n"
     ]
    }
   ],
   "source": [
    "# Create 2 dictionary comprehensions to solve the following:\n",
    "# a. Iterate a list of names and create a dictionary where key is the name and value is the length of the name\n",
    "myDict = {x : len(x) for x in names}\n",
    "print(myDict)"
   ]
  },
  {
   "cell_type": "code",
   "execution_count": 11,
   "metadata": {},
   "outputs": [
    {
     "name": "stdout",
     "output_type": "stream",
     "text": [
      "{10: 3.1622776601683795, 11: 3.3166247903554, 12: 3.4641016151377544, 13: 3.605551275463989, 14: 3.7416573867739413, 15: 3.872983346207417, 16: 4.0, 17: 4.123105625617661, 18: 4.242640687119285, 19: 4.358898943540674}\n"
     ]
    }
   ],
   "source": [
    "# b. Iterate a list of numbers and create a dictionary with (key, value) being (number, squareroot of number)\n",
    "import math\n",
    "\n",
    "myDict = {x : math.sqrt(x) for x in range(10, 20)}\n",
    "print(myDict)"
   ]
  },
  {
   "cell_type": "code",
   "execution_count": 25,
   "metadata": {},
   "outputs": [
    {
     "name": "stdout",
     "output_type": "stream",
     "text": [
      "1\n",
      "2\n",
      "3\n",
      "4\n",
      "5\n",
      "6\n",
      "Highest dice toss: 12\n",
      "Lowest dice toss: 2\n",
      "\n",
      "Initial Dictionary. Contains possible dice toss as keys: \n",
      "{2: 0, 3: 0, 4: 0, 5: 0, 6: 0, 7: 0, 8: 0, 9: 0, 10: 0, 11: 0, 12: 0}\n",
      "\n",
      "Value now contains the amount of throws that can have that sum: \n",
      "{2: 1, 3: 2, 4: 3, 5: 4, 6: 5, 7: 6, 8: 5, 9: 4, 10: 3, 11: 2, 12: 1}\n",
      "\n",
      "Possible total variations of 2 dice throws: 36\n",
      "\n",
      "Value now contains % probability of getting that sum when throwing two dice: \n",
      "{2: '2.78%', 3: '5.56%', 4: '8.33%', 5: '11.11%', 6: '13.89%', 7: '16.67%', 8: '13.89%', 9: '11.11%', 10: '8.33%', 11: '5.56%', 12: '2.78%'}\n"
     ]
    }
   ],
   "source": [
    "# Progammatically using loops create a small program to produce a dictionary \n",
    "# with all the 2 dice throw combinations as keys and their likelyhood in percent as values\n",
    "\n",
    "# Reference for percentages: http://statweb.stanford.edu/~susan/courses/s60/split/node65.html\n",
    "\n",
    "# The task is to basically make the table in the link above, but as a python dictionary:\n",
    "\n",
    "diceOne = range(1,7);\n",
    "diceTwo = range(1,7); ## Making two dice to use for calculations.\n",
    "for x in diceOne:\n",
    "    print(x); ## Making sure the dice are right. \n",
    "    \n",
    "print(\"Highest dice toss: \" + str(6+6))\n",
    "print(\"Lowest dice toss: \" + str(1+1))\n",
    "myDict = {x:0 for x in range(2,13)} ## Setting up a dict with the sum as key. \n",
    "print(\"\\nInitial Dictionary. Contains possible dice toss as keys: \") # Making sure its right. \n",
    "print(myDict)\n",
    "\n",
    "for x in diceOne:\n",
    "    for y in diceTwo:\n",
    "        myDict[x+y] += 1; ## Setting up a dict with sum as key and the amount of possible combinations as value. \n",
    "        \n",
    "print(\"\\nValue now contains the amount of throws that can have that sum: \");\n",
    "print(myDict);\n",
    "\n",
    "# Now I want to change it to %. The total amount of possible dice toss are 36\n",
    "print(\"\\nPossible total variations of 2 dice throws: \" + str(6*6) + \"\\n\")\n",
    "\n",
    "for x in myDict:\n",
    "    myDict[x] = str(round(myDict[x]/36*100,2))+\"%\" # I just want 2 decimals, so I use round(Number, Amount of Decimals)\n",
    "    \n",
    "print(\"Value now contains % probability of getting that sum when throwing two dice: \")\n",
    "print(myDict)"
   ]
  }
 ],
 "metadata": {
  "kernelspec": {
   "display_name": "Python 3",
   "language": "python",
   "name": "python3"
  },
  "language_info": {
   "codemirror_mode": {
    "name": "ipython",
    "version": 3
   },
   "file_extension": ".py",
   "mimetype": "text/x-python",
   "name": "python",
   "nbconvert_exporter": "python",
   "pygments_lexer": "ipython3",
   "version": "3.7.4"
  }
 },
 "nbformat": 4,
 "nbformat_minor": 2
}
