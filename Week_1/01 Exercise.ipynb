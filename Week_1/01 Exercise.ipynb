{
 "cells": [
  {
   "cell_type": "markdown",
   "metadata": {},
   "source": [
    "\n",
    "Exercise¶\n",
    "1. Create 5 list comprehensions to solve the following 5 problems:\n",
    "\n",
    "    a. Iterate a list of names to return a list of the names starting with H\n",
    "    b. In one line create a list of the numbers 1-100 to the power of 3\n",
    "    c. Iterate a list of names to create a list of tuples where the tuples first value is the length of the name and the second is the name\n",
    "    d. Iterate over each character in a string and get only those that are nummeric\n",
    "    e. Using only a list comprehension wrapped in set() get all possible combination from throwing 2 dice\n",
    "    \n",
    "2. Create 2 dictionary comprehensions to solve the following:\n",
    "    a. Iterate a list of names and create a dictionary where key is the name and value is the length of the name\n",
    "    b. Iterate a list of numbers and create a dictionary with (key, value) being (number, squareroot of number)\n",
    "    \n",
    "3. Progammatically using loops create a small program to produce a dictionary with all the 2 dice throw combinations as keys and their likelyhood in percent as values"
   ]
  },
  {
   "cell_type": "code",
   "execution_count": 1,
   "metadata": {},
   "outputs": [
    {
     "data": {
      "text/plain": [
       "['Malte',\n",
       " 'John',\n",
       " 'Peter',\n",
       " 'Hanna',\n",
       " 'Harold',\n",
       " 'Henrik',\n",
       " 'Bob',\n",
       " 'Mads',\n",
       " 'Nicklas']"
      ]
     },
     "execution_count": 1,
     "metadata": {},
     "output_type": "execute_result"
    }
   ],
   "source": [
    "names = [\"Malte\", \"John\", \"Peter\", \"Hanna\", \"Harold\", \"Henrik\", \"Bob\", \"Mads\", \"Nicklas\"]\n",
    "names"
   ]
  },
  {
   "cell_type": "code",
   "execution_count": 2,
   "metadata": {},
   "outputs": [
    {
     "data": {
      "text/plain": [
       "'M'"
      ]
     },
     "execution_count": 2,
     "metadata": {},
     "output_type": "execute_result"
    }
   ],
   "source": [
    "names[0][0:1]"
   ]
  },
  {
   "cell_type": "code",
   "execution_count": 3,
   "metadata": {},
   "outputs": [
    {
     "data": {
      "text/plain": [
       "['Hanna', 'Harold', 'Henrik']"
      ]
     },
     "execution_count": 3,
     "metadata": {},
     "output_type": "execute_result"
    }
   ],
   "source": [
    "# This Solves 1 a  \n",
    "names_startWith_H = [name for name in names if(name[0:1] == \"H\")]\n",
    "names_startWith_H"
   ]
  }
 ],
 "metadata": {
  "kernelspec": {
   "display_name": "Python 3",
   "language": "python",
   "name": "python3"
  },
  "language_info": {
   "codemirror_mode": {
    "name": "ipython",
    "version": 3
   },
   "file_extension": ".py",
   "mimetype": "text/x-python",
   "name": "python",
   "nbconvert_exporter": "python",
   "pygments_lexer": "ipython3",
   "version": "3.7.4"
  }
 },
 "nbformat": 4,
 "nbformat_minor": 2
}
