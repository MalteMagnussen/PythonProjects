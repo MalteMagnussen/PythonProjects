{
 "cells": [
  {
   "cell_type": "markdown",
   "metadata": {},
   "source": [
    "# Exercises 01-4 Data Structures Dictionaries\n",
    "\n",
    "#### Date Decoder. \n",
    "\n",
    "1. A date of the form 8-MAR-85 includes the name of the month, which must be translated to a number.\n",
    "2. Create a dict suitable for decoding month names to numbers.\n",
    "3. Create a function which uses string operations to split the date into 3 items using the \"-\" character.\n",
    "4. Translate the month and return a tuple.\n",
    "5. The function will accept a date in the \"dd-MMM-yy\" format and respond with a tuple of ( y , m , d )."
   ]
  },
  {
   "cell_type": "code",
   "execution_count": 1,
   "metadata": {},
   "outputs": [
    {
     "name": "stdout",
     "output_type": "stream",
     "text": [
      "{'JAN': 1, 'FEB': 2, 'MAR': 3, 'APR': 4, 'MAY': 5, 'JUN': 6, 'JUL': 7, 'AUG': 8, 'SEP': 9, 'OCT': 10, 'NOV': 11, 'DEC': 12}\n"
     ]
    }
   ],
   "source": [
    "# Dict suitable for decoding month names to numbers\n",
    "\n",
    "convert = {\"JAN\":1, \"FEB\":2, \"MAR\":3, \"APR\":4, \"MAY\":5, \"JUN\":6, \"JUL\":7, \"AUG\":8, \"SEP\":9, \"OCT\":10, \"NOV\":11, \"DEC\":12}\n",
    "print(convert)"
   ]
  },
  {
   "cell_type": "code",
   "execution_count": 2,
   "metadata": {},
   "outputs": [],
   "source": [
    "# Function which uses string operations to split the date into 3 items using the \"-\" character. \n",
    "def mySplit(myString):\n",
    "    return myString.split(\"-\");"
   ]
  },
  {
   "cell_type": "code",
   "execution_count": 17,
   "metadata": {},
   "outputs": [
    {
     "name": "stdout",
     "output_type": "stream",
     "text": [
      "('20', 4, '10')\n"
     ]
    }
   ],
   "source": [
    "# Translating the month and returning a tuple:\n",
    "def translate(date):\n",
    "    myArray = mySplit(date);\n",
    "    newArray = [myArray[2], convert[myArray[1]], myArray[0]];\n",
    "    return tuple(newArray);\n",
    "print(translate(\"10-APR-20\"));"
   ]
  }
 ],
 "metadata": {
  "kernelspec": {
   "display_name": "Python 3",
   "language": "python",
   "name": "python3"
  },
  "language_info": {
   "codemirror_mode": {
    "name": "ipython",
    "version": 3
   },
   "file_extension": ".py",
   "mimetype": "text/x-python",
   "name": "python",
   "nbconvert_exporter": "python",
   "pygments_lexer": "ipython3",
   "version": "3.7.4"
  }
 },
 "nbformat": 4,
 "nbformat_minor": 2
}
