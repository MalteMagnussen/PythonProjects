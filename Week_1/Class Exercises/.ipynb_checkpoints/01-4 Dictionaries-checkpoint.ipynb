{
 "cells": [
  {
   "cell_type": "markdown",
   "metadata": {},
   "source": [
    "# Exercises 01-4 Data Structures Dictionaries\n",
    "\n",
    "#### Date Decoder. \n",
    "\n",
    "1. A date of the form 8-MAR-85 includes the name of the month, which must be translated to a number.\n",
    "2. Create a dict suitable for decoding month names to numbers.\n",
    "3. Create a function which uses string operations to split the date into 3 items using the \"-\" character.\n",
    "4. Translate the month and return a tuple.\n",
    "5. The function will accept a date in the \"dd-MMM-yy\" format and respond with a tuple of ( y , m , d )."
   ]
  },
  {
   "cell_type": "code",
   "execution_count": null,
   "metadata": {},
   "outputs": [],
   "source": []
  }
 ],
 "metadata": {
  "kernelspec": {
   "display_name": "Python 3",
   "language": "python",
   "name": "python3"
  },
  "language_info": {
   "codemirror_mode": {
    "name": "ipython",
    "version": 3
   },
   "file_extension": ".py",
   "mimetype": "text/x-python",
   "name": "python",
   "nbconvert_exporter": "python",
   "pygments_lexer": "ipython3",
   "version": "3.7.4"
  }
 },
 "nbformat": 4,
 "nbformat_minor": 2
}
