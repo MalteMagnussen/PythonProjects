{
 "cells": [
  {
   "cell_type": "markdown",
   "metadata": {},
   "source": [
    "# Class Exercises 01-3 python data structures\n",
    "\n",
    "1. Use the range() function to make a list of the odd numbers from 1 to 20. Hint in ipython and this notebooks you can see a functions help text by executing for example range?\n",
    "2. Create a list with the even number values from two to one million. Use min() and max() to make sure your list actually starts at two and ends at one million. Also, use the sum() function to compute the sum of all values. Time the execution time using %timeit.\n",
    "3. Create a list of the multiples of 3 - going from 3 to 300. HINT: USE A LIST COMPREHENSION - A number raised to the third power is called a cube. For example, the cube of 2 is written as 2 ** 3 in Python. \n",
    "4. Create a list of the first 10 cubes (that is, the cube of each integer from 1 through 10)."
   ]
  },
  {
   "cell_type": "code",
   "execution_count": 9,
   "metadata": {},
   "outputs": [
    {
     "name": "stdout",
     "output_type": "stream",
     "text": [
      "1\n",
      "3\n",
      "5\n",
      "7\n",
      "9\n",
      "11\n",
      "13\n",
      "15\n",
      "17\n",
      "19\n"
     ]
    }
   ],
   "source": [
    "# Use the range() function to make a list of the odd numbers from 1 to 20. \n",
    "# Hint in ipython and this notebooks you can see a functions help text by executing for example range?\n",
    "\n",
    "myArray = range(1,20,2)\n",
    "for n in myArray:\n",
    "    print(n);"
   ]
  },
  {
   "cell_type": "code",
   "execution_count": 1,
   "metadata": {},
   "outputs": [],
   "source": [
    "#range?"
   ]
  },
  {
   "cell_type": "code",
   "execution_count": 18,
   "metadata": {},
   "outputs": [
    {
     "name": "stdout",
     "output_type": "stream",
     "text": [
      "Max: 999999\n",
      "Min: 2\n",
      "0.007105300000148418\n"
     ]
    }
   ],
   "source": [
    "#Create a list with the even number values from two to one million. \n",
    "# Use min() and max() to make sure your list actually starts at two and ends at one million. \n",
    "# Also, use the sum() function to compute the sum of all values. Time the execution time using %timeit.\n",
    "import timeit\n",
    "million = range(2, 1000000);\n",
    "print(\"Max: \" + str(max(million))) # Can't print ints. Have to convert it to a string first. \n",
    "print(\"Min: \" + str(min(million)))\n",
    "print(timeit.timeit(str(sum(million))))"
   ]
  },
  {
   "cell_type": "code",
   "execution_count": 1,
   "metadata": {},
   "outputs": [
    {
     "name": "stdout",
     "output_type": "stream",
     "text": [
      "[3, 6, 9, 12, 15, 18, 21, 24, 27, 30, 33, 36, 39, 42, 45, 48, 51, 54, 57, 60, 63, 66, 69, 72, 75, 78, 81, 84, 87, 90, 93, 96, 99, 102, 105, 108, 111, 114, 117, 120, 123, 126, 129, 132, 135, 138, 141, 144, 147, 150, 153, 156, 159, 162, 165, 168, 171, 174, 177, 180, 183, 186, 189, 192, 195, 198, 201, 204, 207, 210, 213, 216, 219, 222, 225, 228, 231, 234, 237, 240, 243, 246, 249, 252, 255, 258, 261, 264, 267, 270, 273, 276, 279, 282, 285, 288, 291, 294, 297]\n"
     ]
    }
   ],
   "source": [
    "#Create a list of the multiples of 3 - going from 3 to 300. \n",
    "# HINT: USE A LIST COMPREHENSION - \n",
    "\n",
    "multiples = [x for x in range(3, 300, 3)]\n",
    "print(multiples)\n"
   ]
  },
  {
   "cell_type": "code",
   "execution_count": 3,
   "metadata": {},
   "outputs": [
    {
     "name": "stdout",
     "output_type": "stream",
     "text": [
      "[1, 8, 27, 64, 125, 216, 343, 512, 729, 1000]\n"
     ]
    }
   ],
   "source": [
    "# Create a list of the first 10 cubes \n",
    "# (that is, the cube of each integer from 1 through 10).\n",
    "# A number raised to the third power is called a cube. \n",
    "# For example, the cube of 2 is written as 2 ** 3 in Python.\n",
    "\n",
    "cubes = [x **3 for x in range(1,11)]\n",
    "print(cubes)"
   ]
  }
 ],
 "metadata": {
  "kernelspec": {
   "display_name": "Python 3",
   "language": "python",
   "name": "python3"
  },
  "language_info": {
   "codemirror_mode": {
    "name": "ipython",
    "version": 3
   },
   "file_extension": ".py",
   "mimetype": "text/x-python",
   "name": "python",
   "nbconvert_exporter": "python",
   "pygments_lexer": "ipython3",
   "version": "3.7.4"
  }
 },
 "nbformat": 4,
 "nbformat_minor": 2
}
