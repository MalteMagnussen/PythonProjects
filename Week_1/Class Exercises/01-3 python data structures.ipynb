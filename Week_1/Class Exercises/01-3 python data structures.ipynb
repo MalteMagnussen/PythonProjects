{
 "cells": [
  {
   "cell_type": "markdown",
   "metadata": {},
   "source": [
    "# Class Exercises 01-3 python data structures\n",
    "\n",
    "1. Use the range() function to make a list of the odd numbers from 1 to 20. Hint in ipython and this notebooks you can see a functions help text by executing for example range?\n",
    "2. Create a list with the even number values from two to one million. Use min() and max() to make sure your list actually starts at two and ends at one million. Also, use the sum() function to compute the sum of all values. Time the execution time using %timeit.\n",
    "3. Create a list of the multiples of 3 - going from 3 to 300. HINT: USE A LIST COMPREHENSION - A number raised to the third power is called a cube. For example, the cube of 2 is written as 2 ** 3 in Python. \n",
    "4. Create a list of the first 10 cubes (that is, the cube of each integer from 1 through 10)."
   ]
  },
  {
   "cell_type": "code",
   "execution_count": null,
   "metadata": {},
   "outputs": [],
   "source": []
  }
 ],
 "metadata": {
  "kernelspec": {
   "display_name": "Python 3",
   "language": "python",
   "name": "python3"
  },
  "language_info": {
   "codemirror_mode": {
    "name": "ipython",
    "version": 3
   },
   "file_extension": ".py",
   "mimetype": "text/x-python",
   "name": "python",
   "nbconvert_exporter": "python",
   "pygments_lexer": "ipython3",
   "version": "3.7.4"
  }
 },
 "nbformat": 4,
 "nbformat_minor": 2
}
